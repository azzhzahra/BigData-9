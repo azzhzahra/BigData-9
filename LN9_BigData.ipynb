{
  "nbformat": 4,
  "nbformat_minor": 0,
  "metadata": {
    "colab": {
      "provenance": [],
      "include_colab_link": true
    },
    "kernelspec": {
      "name": "python3",
      "display_name": "Python 3"
    },
    "language_info": {
      "name": "python"
    }
  },
  "cells": [
    {
      "cell_type": "markdown",
      "metadata": {
        "id": "view-in-github",
        "colab_type": "text"
      },
      "source": [
        "<a href=\"https://colab.research.google.com/github/Aldistwn29/Big_Data/blob/main/LN9_BigData.ipynb\" target=\"_parent\"><img src=\"https://colab.research.google.com/assets/colab-badge.svg\" alt=\"Open In Colab\"/></a>"
      ]
    },
    {
      "cell_type": "markdown",
      "source": [
        "- **Nama : Aldi Setiawan**\n",
        "- **Nim : 20220040054**"
      ],
      "metadata": {
        "id": "Wmirfe5h0VWr"
      }
    },
    {
      "cell_type": "code",
      "execution_count": null,
      "metadata": {
        "colab": {
          "base_uri": "https://localhost:8080/"
        },
        "id": "XScNz_aII4AK",
        "outputId": "1e7ce4b1-cbda-47b5-bdd9-abce4613afde"
      },
      "outputs": [
        {
          "output_type": "stream",
          "name": "stdout",
          "text": [
            "Data Asli:\n",
            "   kode_baranga nama_barang       harga metode_pemabyaran\n",
            "0           101      Laptop  50000000.0              Cash\n",
            "1           102   Handphone  30000000.0            Paypal\n",
            "2           103    televisi         NaN                  \n",
            "3           104    earphone    500000.0            Cerdit\n",
            "\n",
            "Data Setelah Dibersihkan:\n",
            "   kode_baranga nama_barang       harga metode_pemabyaran\n",
            "0           101      Laptop  50000000.0              Cash\n",
            "1           102   Handphone  30000000.0            Paypal\n",
            "3           104    earphone    500000.0            Cerdit\n",
            "\n",
            "Data yang telah dibersihkan disimpan ke file data_barang_cleaned.csv\n"
          ]
        }
      ],
      "source": [
        "import pandas as pd\n",
        "\n",
        "# Data contoh dengan nilai kosong\n",
        "data = {\n",
        "    'kode_baranga': [101, 102, 103, 104],\n",
        "    'nama_barang': ['Laptop', 'Handphone', 'televisi', 'earphone'],\n",
        "    'harga': [50000000, 30000000, None ,500000 ],\n",
        "    'metode_pemabyaran': ['Cash', 'Paypal', '', 'Cerdit' ]\n",
        "}\n",
        "\n",
        "# Membuat DataFrame dari data\n",
        "sampel = pd.DataFrame(data)\n",
        "\n",
        "# Menampilkan DataFrame sebelum membersihkan\n",
        "print(\"Data Asli:\")\n",
        "print(sampel)\n",
        "\n",
        "# Membersihkan data (menghapus baris yang memiliki nilai kosong)\n",
        "semple_cleaned = sampel.dropna()\n",
        "\n",
        "# Menampilkan DataFrame setelah dibersihkan\n",
        "print(\"\\nData Setelah Dibersihkan:\")\n",
        "print(semple_cleaned)\n",
        "\n",
        "# Menyimpan data yang telah dibersihkan ke file CSV baru\n",
        "semple_cleaned.to_csv('data_barang_cleaned.csv', index=False)\n",
        "\n",
        "print(\"\\nData yang telah dibersihkan disimpan ke file data_barang _cleaned.csv\")\n"
      ]
    },
    {
      "cell_type": "code",
      "source": [
        "import pandas as pd\n",
        "\n",
        "# Data contoh dengan nilai kosong\n",
        "data = {\n",
        "    'nim':[20221, 20222, 20223, 20224],\n",
        "    'nama':['sultan', 'veri', 'anisa', 'tia'],\n",
        "    'nilai':[80, 90, 95, None]\n",
        "}\n",
        "\n",
        "# Membuat DataFrame dari data\n",
        "sample= pd.DataFrame(data)\n",
        "\n",
        "# Menampilkan DataFrame sebelum imputasi\n",
        "print(\"Data Asli:\")\n",
        "print(sample)\n",
        "\n",
        "# Hitung nilai rerata untuk imputasi\n",
        "mean_nilai = sample['nilai'].mean()\n",
        "\n",
        "# Imputasi nilai kosong dengan nilai rerata dari kolom 'usia\n",
        "sample.fillna(mean_nilai, inplace=True)\n",
        "\n",
        "# Menampilkan DataFrame setelah imputasi\n",
        "print(\"\\nData Setelah Imputasi:\")\n",
        "print(sample)"
      ],
      "metadata": {
        "colab": {
          "base_uri": "https://localhost:8080/"
        },
        "id": "08NnlOtdJKIT",
        "outputId": "0acc252c-0435-4592-8a27-1b1f32f2cf5e"
      },
      "execution_count": null,
      "outputs": [
        {
          "output_type": "stream",
          "name": "stdout",
          "text": [
            "Data Asli:\n",
            "     nim    nama  nilai\n",
            "0  20221  sultan   80.0\n",
            "1  20222    veri   90.0\n",
            "2  20223   anisa   95.0\n",
            "3  20224     tia    NaN\n",
            "\n",
            "Data Setelah Imputasi:\n",
            "     nim    nama      nilai\n",
            "0  20221  sultan  80.000000\n",
            "1  20222    veri  90.000000\n",
            "2  20223   anisa  95.000000\n",
            "3  20224     tia  88.333333\n"
          ]
        }
      ]
    },
    {
      "cell_type": "code",
      "source": [
        "import pandas as pd\n",
        "\n",
        "# Data contoh dengan nilai kosong\n",
        "data = {\n",
        "    'nim':[20221, 20222, 20223, 20224],\n",
        "    'nama':['sultan', 'veri', 'anisa', 'tia'],\n",
        "    'nilai':[80, 90, 95, None]\n",
        "}\n",
        "\n",
        "# Membuat DataFrame dari data\n",
        "sample = pd.DataFrame(data)\n",
        "\n",
        "# Menampilkan DataFrame sebelum imputasi\n",
        "print(\"Data Asli:\")\n",
        "print(sample)\n",
        "\n",
        "# Imputasi nilai kosong di ujung ekor (end of tail) dengan nilai terakhir yang tersedia\n",
        "nilai_ekor = sample['nilai'].dropna().iloc[-1]\n",
        "sample['nilai'].fillna(nilai_ekor, inplace=True)\n",
        "\n",
        "# Menampilkan DataFrame setelah imputasi\n",
        "print(\"\\nData Setelah Imputasi:\")\n",
        "print(sample)"
      ],
      "metadata": {
        "colab": {
          "base_uri": "https://localhost:8080/"
        },
        "id": "1Z7uszLyLUOP",
        "outputId": "abea54ba-5d98-4475-d3a8-7856fd1d7cd6"
      },
      "execution_count": null,
      "outputs": [
        {
          "output_type": "stream",
          "name": "stdout",
          "text": [
            "Data Asli:\n",
            "     nim    nama  nilai\n",
            "0  20221  sultan   80.0\n",
            "1  20222    veri   90.0\n",
            "2  20223   anisa   95.0\n",
            "3  20224     tia    NaN\n",
            "\n",
            "Data Setelah Imputasi:\n",
            "     nim    nama  nilai\n",
            "0  20221  sultan   80.0\n",
            "1  20222    veri   90.0\n",
            "2  20223   anisa   95.0\n",
            "3  20224     tia   95.0\n"
          ]
        }
      ]
    },
    {
      "cell_type": "code",
      "source": [
        "import pandas as pd\n",
        "\n",
        "# Data contoh dengan nilai noisy\n",
        "data = {\n",
        "    'nama':['aldi', 'setiawan', 'nurdin', 'fauzan', 'izul', 'bilal', 'dera', 'habli'],\n",
        "    'umur':[21, -100, 18, -1, 29, -50, 30, 40]\n",
        "\n",
        "}\n",
        "\n",
        "# Membuat DataFrame dari data\n",
        "df = pd.DataFrame(data)\n",
        "\n",
        "# Menampilkan DataFrame sebelum pengolahan\n",
        "print(\"Data Sebelum Pengolahan:\")\n",
        "print(df)\n",
        "\n",
        "# Mengatasi nilai noisy dengan teknik binning\n",
        "# Misalnya, kita akan menggantinya dengan nilai median dari data non-noisy\n",
        "median_temp = df[df['umur'] >= -1]['umur'].median()\n",
        "df.loc[df['umur'] <= -1, 'umur'] = median_temp\n",
        "\n",
        "# Menampilkan DataFrame setelah pengolahan\n",
        "print(\"\\nData Setelah Pengolahan:\")\n",
        "print(df)"
      ],
      "metadata": {
        "colab": {
          "base_uri": "https://localhost:8080/"
        },
        "id": "VgabHo9NMaqP",
        "outputId": "3bf770f2-5eac-4afd-de20-fad9dba0a1a2"
      },
      "execution_count": null,
      "outputs": [
        {
          "output_type": "stream",
          "name": "stdout",
          "text": [
            "Data Sebelum Pengolahan:\n",
            "       nama  umur\n",
            "0      aldi    21\n",
            "1  setiawan  -100\n",
            "2    nurdin    18\n",
            "3    fauzan    -1\n",
            "4      izul    29\n",
            "5     bilal   -50\n",
            "6      dera    30\n",
            "7     habli    40\n",
            "\n",
            "Data Setelah Pengolahan:\n",
            "       nama  umur\n",
            "0      aldi    21\n",
            "1  setiawan    25\n",
            "2    nurdin    18\n",
            "3    fauzan    25\n",
            "4      izul    29\n",
            "5     bilal    25\n",
            "6      dera    30\n",
            "7     habli    40\n"
          ]
        }
      ]
    },
    {
      "cell_type": "code",
      "source": [
        "import pandas as pd\n",
        "from sklearn.linear_model import LinearRegression\n",
        "\n",
        "# Data contoh dengan nilai noisy\n",
        "data = {\n",
        "    'Date': ['2024-05-01', '2024-05-02', '2024-05-03', '2024-05-04', '2024-05-05', '2024-05-06', '2024-05-07',\n",
        "             '2024-05-08', '2024-05-09', '2024-05-10', '2024-05-11', '2024-05-12', '2024-05-13', '2024-05-14',\n",
        "             '2024-05-15', '2024-05-16', '2024-05-17', '2024-05-18', '2024-05-19', '2024-05-20', '2024-05-21',\n",
        "             '2024-05-22', '2024-05-23', '2024-05-24', '2024-05-25', '2024-05-26', '2024-05-27', '2024-05-28',\n",
        "             '2024-05-29', '2024-05-30'],\n",
        "    'Suhu_tanah (C)': [30, 20, 40, 20, 29, 59, 29, 40, 37, 40, 20, 10, 19, 18, 29, 20, 21, 32, 33, 40, 45, 46,\n",
        "                          19, 20, 29, 30, 27, 25, 20, -210]\n",
        "}\n",
        "\n",
        "# Membuat DataFrame dari data\n",
        "df = pd.DataFrame(data)\n",
        "\n",
        "# Menampilkan DataFrame sebelum pengolahan\n",
        "print(\"Data Sebelum Pengolahan:\")\n",
        "print(df)\n",
        "\n",
        "# Mengatasi nilai noisy dengan regresi linier\n",
        "df_before = df.loc[df['Suhu_tanah (C)'] != -210].copy()\n",
        "df_after = df.loc[df['Suhu_tanah (C)'] != -210].copy()\n",
        "\n",
        "df_before['Date'] = pd.to_datetime(df_before['Date']).apply(lambda x: x.toordinal()).values.reshape(-1, 1)\n",
        "df_after['Date'] = pd.to_datetime(df_after['Date']).apply(lambda x: x.toordinal()).values.reshape(-1, 1)\n",
        "\n",
        "X_before = df_before['Date'].values.reshape(-1, 1)\n",
        "y_before = df_before['Suhu_tanah (C)'].values.reshape(-1, 1)\n",
        "X_after = df_after['Date'].values.reshape(-1, 1)\n",
        "y_after = df_after['Suhu_tanah (C)'].values.reshape(-1, 1)\n",
        "\n",
        "model_before = LinearRegression().fit(X_before, y_before)\n",
        "model_after = LinearRegression().fit(X_after, y_after)\n",
        "\n",
        "date_noisy = pd.to_datetime('2024-05-30').toordinal()\n",
        "pred_suhu_before = model_before.predict([[date_noisy]])\n",
        "pred_suhu_after = model_after.predict([[date_noisy]])\n",
        "\n",
        "df.loc[df['Suhu_tanah (C)'] == -210, 'Suhu_tanah (C)'] = (pred_suhu_before + pred_suhu_after) / 2\n",
        "pd.set_option('display.float_format', '{:.0f}'.format)\n",
        "\n",
        "\n",
        "# Menampilkan DataFrame setelah pengolahan\n",
        "print(\"\\nData Setelah Pengolahan:\")\n",
        "print(df)"
      ],
      "metadata": {
        "colab": {
          "base_uri": "https://localhost:8080/"
        },
        "id": "xSqZ9ffj5iHh",
        "outputId": "bee4036f-4f65-4265-c095-afaeecedab65"
      },
      "execution_count": null,
      "outputs": [
        {
          "output_type": "stream",
          "name": "stdout",
          "text": [
            "Data Sebelum Pengolahan:\n",
            "          Date  Suhu_tanah (C)\n",
            "0   2024-05-01              30\n",
            "1   2024-05-02              20\n",
            "2   2024-05-03              40\n",
            "3   2024-05-04              20\n",
            "4   2024-05-05              29\n",
            "5   2024-05-06              59\n",
            "6   2024-05-07              29\n",
            "7   2024-05-08              40\n",
            "8   2024-05-09              37\n",
            "9   2024-05-10              40\n",
            "10  2024-05-11              20\n",
            "11  2024-05-12              10\n",
            "12  2024-05-13              19\n",
            "13  2024-05-14              18\n",
            "14  2024-05-15              29\n",
            "15  2024-05-16              20\n",
            "16  2024-05-17              21\n",
            "17  2024-05-18              32\n",
            "18  2024-05-19              33\n",
            "19  2024-05-20              40\n",
            "20  2024-05-21              45\n",
            "21  2024-05-22              46\n",
            "22  2024-05-23              19\n",
            "23  2024-05-24              20\n",
            "24  2024-05-25              29\n",
            "25  2024-05-26              30\n",
            "26  2024-05-27              27\n",
            "27  2024-05-28              25\n",
            "28  2024-05-29              20\n",
            "29  2024-05-30            -210\n",
            "\n",
            "Data Setelah Pengolahan:\n",
            "          Date  Suhu_tanah (C)\n",
            "0   2024-05-01              30\n",
            "1   2024-05-02              20\n",
            "2   2024-05-03              40\n",
            "3   2024-05-04              20\n",
            "4   2024-05-05              29\n",
            "5   2024-05-06              59\n",
            "6   2024-05-07              29\n",
            "7   2024-05-08              40\n",
            "8   2024-05-09              37\n",
            "9   2024-05-10              40\n",
            "10  2024-05-11              20\n",
            "11  2024-05-12              10\n",
            "12  2024-05-13              19\n",
            "13  2024-05-14              18\n",
            "14  2024-05-15              29\n",
            "15  2024-05-16              20\n",
            "16  2024-05-17              21\n",
            "17  2024-05-18              32\n",
            "18  2024-05-19              33\n",
            "19  2024-05-20              40\n",
            "20  2024-05-21              45\n",
            "21  2024-05-22              46\n",
            "22  2024-05-23              19\n",
            "23  2024-05-24              20\n",
            "24  2024-05-25              29\n",
            "25  2024-05-26              30\n",
            "26  2024-05-27              27\n",
            "27  2024-05-28              25\n",
            "28  2024-05-29              20\n",
            "29  2024-05-30              27\n"
          ]
        }
      ]
    },
    {
      "cell_type": "code",
      "source": [
        "import pandas as pd\n",
        "import random\n",
        "import string\n",
        "\n",
        "\n",
        "# Data contoh dengan jumlah observasi yang besar\n",
        "data = {\n",
        "    'no_rumah': range(1, 301),\n",
        "    'alamat': ['jl.tengku umar' + str(i) for i in range(1, 301)],\n",
        "    'inisial_pemilik': [random.choice(string.ascii_lowercase) for i in range(300)], # inisial pemilik di acak dari a-z menggunakan fungsi dari library random dan string\n",
        "    'harga': [30000, 40000, 50000] * 100  # Data pendapatan diulang sebanyak 100 kali\n",
        "}\n",
        "\n",
        "# Membuat DataFrame dari data\n",
        "df = pd.DataFrame(data)\n",
        "\n",
        "# Menampilkan jumlah observasi sebelum pengurangan\n",
        "print(\"Jumlah Observasi Sebelum Pengurangan:\", len(df))\n",
        "\n",
        "# Mengurangi data dengan mengambil sampel acak sebanyak 100 observasi\n",
        "sampled_data = df.sample(n=100, random_state=42)\n",
        "\n",
        "# Menampilkan jumlah observasi setelah pengurangan\n",
        "print(\"Jumlah Observasi Setelah Pengurangan:\", len(sampled_data))\n"
      ],
      "metadata": {
        "colab": {
          "base_uri": "https://localhost:8080/"
        },
        "id": "Lt8kUCoxNQ0I",
        "outputId": "be5dbe94-845c-409f-96b7-c55ed6783e74"
      },
      "execution_count": 15,
      "outputs": [
        {
          "output_type": "stream",
          "name": "stdout",
          "text": [
            "Jumlah Observasi Sebelum Pengurangan: 300\n",
            "Jumlah Observasi Setelah Pengurangan: 100\n"
          ]
        }
      ]
    },
    {
      "cell_type": "code",
      "source": [
        "import pandas as pd\n",
        "import numpy as np\n",
        "import seaborn as sns\n",
        "import matplotlib.pyplot as plt\n",
        "\n",
        "# Membuat dataset contoh dengan beberapa fitur numerik dan target variabel\n",
        "np.random.seed(0)\n",
        "data = {\n",
        "    'Usia': np.random.randint(30, 50, 150),\n",
        "    'Pengalaman Kerja (tahun)': np.random.randint(1, 10, 150),\n",
        "    'Nilai Evaluasi': np.random.uniform(3.0, 4.0, 150),\n",
        "    'Jam Kerja per Minggu': np.random.randint(10, 35, 150),\n",
        "    'PHK': np.random.choice(['Pertahankan', 'Pertimbangkan', 'Pecat'], size=150)\n",
        "}\n",
        "\n",
        "# Membuat DataFrame dari data\n",
        "# df = pd.DataFrame(data)\n",
        "df = pd.DataFrame(data)\n",
        "\n",
        "# Mengkonversi variabel kategorikal menjadi one-hot encoding\n",
        "# df = pd.get_dummies(df, columns=['PHK'])\n",
        "df = pd.get_dummies(df, columns=['PHK'])\n",
        "\n",
        "# Menampilkan 5 baris pertama dari DataFrame setelah konversi\n",
        "print(\"Data Setelah Konversi:\")\n",
        "print(df.head())\n",
        "\n",
        "# Menghitung korelasi antara fitur-fitur\n",
        "korelasi = df.corr()\n",
        "\n",
        "\n",
        "plt.figure(figsize=(10, 8))\n",
        "sns.heatmap(korelasi, annot=True, cmap='coolwarm', fmt=\".2f\")\n",
        "plt.title('Matriks Korelasi antara fitur')\n",
        "plt.show()\n"
      ],
      "metadata": {
        "colab": {
          "base_uri": "https://localhost:8080/",
          "height": 1000
        },
        "id": "uuICw4_aPGBO",
        "outputId": "eb3ddeea-8bb6-428b-c6f0-3717e016f779"
      },
      "execution_count": 53,
      "outputs": [
        {
          "output_type": "stream",
          "name": "stdout",
          "text": [
            "Data Setelah Konversi:\n",
            "   Usia  Pengalaman Kerja (tahun)  Nilai Evaluasi  Jam Kerja per Minggu  \\\n",
            "0    42                         1        3.174909                    10   \n",
            "1    45                         5        3.704474                    19   \n",
            "2    30                         4        3.463150                    26   \n",
            "3    33                         7        3.840429                    12   \n",
            "4    33                         9        3.204866                    18   \n",
            "\n",
            "   PHK_Pecat  PHK_Pertahankan  PHK_Pertimbangkan  \n",
            "0      False             True              False  \n",
            "1       True            False              False  \n",
            "2      False             True              False  \n",
            "3      False            False               True  \n",
            "4       True            False              False  \n"
          ]
        },
        {
          "output_type": "display_data",
          "data": {
            "text/plain": [
              "<Figure size 1000x800 with 2 Axes>"
            ],
            "image/png": "[encoded data removed]"
          },
          "metadata": {}
        }
      ]
    },
    {
      "cell_type": "code",
      "source": [
        "# Menghitung korelasi antara fitur-fitur dan target variabel\n",
        "korelasi_fitur_dgn_target = df.corr()['PHK_Pertahankan'].abs().sort_values(ascending=False)\n",
        "print(\"Korelasi dengan Target Variabel:\")\n",
        "print(korelasi_fitur_dgn_target)\n",
        "\n",
        "# Menghitung korelasi antara fitur-fitur itu sendiri\n",
        "korelasi_antar_fitur= df.drop(columns=['PHK_Pertahankan']).corr().abs().unstack().sort_values(ascending=False)\n",
        "print(\"\\nKorelasi antara Fitur-Fitur:\")\n",
        "print(korelasi_antar_fitur)"
      ],
      "metadata": {
        "colab": {
          "base_uri": "https://localhost:8080/"
        },
        "id": "eTInnfqKQyvl",
        "outputId": "ef7e2146-8378-49aa-985b-4723e102d478"
      },
      "execution_count": 57,
      "outputs": [
        {
          "output_type": "stream",
          "name": "stdout",
          "text": [
            "Korelasi dengan Target Variabel:\n",
            "PHK_Pertahankan             1.000000\n",
            "PHK_Pecat                   0.545777\n",
            "PHK_Pertimbangkan           0.497283\n",
            "Jam Kerja per Minggu        0.117940\n",
            "Nilai Evaluasi              0.091150\n",
            "Usia                        0.065304\n",
            "Pengalaman Kerja (tahun)    0.022760\n",
            "Name: PHK_Pertahankan, dtype: float64\n",
            "\n",
            "Korelasi antara Fitur-Fitur:\n",
            "Usia                      Usia                        1.000000\n",
            "Pengalaman Kerja (tahun)  Pengalaman Kerja (tahun)    1.000000\n",
            "PHK_Pecat                 PHK_Pecat                   1.000000\n",
            "Jam Kerja per Minggu      Jam Kerja per Minggu        1.000000\n",
            "Nilai Evaluasi            Nilai Evaluasi              1.000000\n",
            "PHK_Pertimbangkan         PHK_Pertimbangkan           1.000000\n",
            "PHK_Pecat                 PHK_Pertimbangkan           0.455573\n",
            "PHK_Pertimbangkan         PHK_Pecat                   0.455573\n",
            "Jam Kerja per Minggu      PHK_Pecat                   0.166270\n",
            "PHK_Pecat                 Jam Kerja per Minggu        0.166270\n",
            "Usia                      Nilai Evaluasi              0.105458\n",
            "Nilai Evaluasi            Usia                        0.105458\n",
            "PHK_Pecat                 Nilai Evaluasi              0.103317\n",
            "Nilai Evaluasi            PHK_Pecat                   0.103317\n",
            "PHK_Pertimbangkan         Pengalaman Kerja (tahun)    0.072838\n",
            "Pengalaman Kerja (tahun)  PHK_Pertimbangkan           0.072838\n",
            "Nilai Evaluasi            Jam Kerja per Minggu        0.051733\n",
            "Jam Kerja per Minggu      Nilai Evaluasi              0.051733\n",
            "Pengalaman Kerja (tahun)  PHK_Pecat                   0.046995\n",
            "PHK_Pecat                 Pengalaman Kerja (tahun)    0.046995\n",
            "PHK_Pertimbangkan         Jam Kerja per Minggu        0.046859\n",
            "Jam Kerja per Minggu      PHK_Pertimbangkan           0.046859\n",
            "Pengalaman Kerja (tahun)  Usia                        0.037609\n",
            "Usia                      Pengalaman Kerja (tahun)    0.037609\n",
            "PHK_Pecat                 Usia                        0.037123\n",
            "Usia                      PHK_Pecat                   0.037123\n",
            "                          PHK_Pertimbangkan           0.030941\n",
            "PHK_Pertimbangkan         Usia                        0.030941\n",
            "Pengalaman Kerja (tahun)  Jam Kerja per Minggu        0.028918\n",
            "Jam Kerja per Minggu      Pengalaman Kerja (tahun)    0.028918\n",
            "Nilai Evaluasi            Pengalaman Kerja (tahun)    0.022993\n",
            "Pengalaman Kerja (tahun)  Nilai Evaluasi              0.022993\n",
            "Usia                      Jam Kerja per Minggu        0.013866\n",
            "Jam Kerja per Minggu      Usia                        0.013866\n",
            "PHK_Pertimbangkan         Nilai Evaluasi              0.010138\n",
            "Nilai Evaluasi            PHK_Pertimbangkan           0.010138\n",
            "dtype: float64\n"
          ]
        }
      ]
    },
    {
      "cell_type": "code",
      "source": [
        "# Menentukan fitur dengan korelasi paling rendah dengan target variabel\n",
        "lowest_correlation_feature = korelasi_fitur_dgn_target.idxmin()\n",
        "\n",
        "# Menampilkan fitur yang memiliki korelasi paling rendah\n",
        "print(\"Fitur dengan Korelasi Paling Rendah dengan Target Variabel:\", lowest_correlation_feature)\n",
        "\n",
        "# Menghapus fitur yang memiliki korelasi paling rendah\n",
        "df_selected = df.drop(columns=[lowest_correlation_feature])\n",
        "\n",
        "# Menampilkan DataFrame setelah menghapus fitur\n",
        "print(\"\\nDataFrame setelah menghapus fitur dengan korelasi paling rendah:\")\n",
        "print(df_selected.head())\n",
        "\n"
      ],
      "metadata": {
        "colab": {
          "base_uri": "https://localhost:8080/"
        },
        "id": "qmNspeKaRHpW",
        "outputId": "f68f6c2f-1041-4943-ac69-e87ee2744ab9"
      },
      "execution_count": 58,
      "outputs": [
        {
          "output_type": "stream",
          "name": "stdout",
          "text": [
            "Fitur dengan Korelasi Paling Rendah dengan Target Variabel: Pengalaman Kerja (tahun)\n",
            "\n",
            "DataFrame setelah menghapus fitur dengan korelasi paling rendah:\n",
            "   Usia  Nilai Evaluasi  Jam Kerja per Minggu  PHK_Pecat  PHK_Pertahankan  \\\n",
            "0    42        3.174909                    10      False             True   \n",
            "1    45        3.704474                    19       True            False   \n",
            "2    30        3.463150                    26      False             True   \n",
            "3    33        3.840429                    12      False            False   \n",
            "4    33        3.204866                    18       True            False   \n",
            "\n",
            "   PHK_Pertimbangkan  \n",
            "0              False  \n",
            "1              False  \n",
            "2              False  \n",
            "3               True  \n",
            "4              False  \n"
          ]
        }
      ]
    },
    {
      "cell_type": "code",
      "source": [
        "import pandas as pd\n",
        "from sklearn.preprocessing import MinMaxScaler\n",
        "\n",
        "# Data contoh dengan beberapa fitur numerik\n",
        "data = {\n",
        "    'Usia': [18, 20, 25, 30, 35],\n",
        "    'Pendapatan (ribu $)': [50, 60, 70, 80, 90],\n",
        "    'Pengeluaran (ribu $)': [20, 25, 30, 35, 40]\n",
        "}\n",
        "\n",
        "# Membuat DataFrame dari data\n",
        "df = pd.DataFrame(data)\n",
        "\n",
        "# Menampilkan DataFrame sebelum transformasi\n",
        "print(\"Data Sebelum Transformasi:\")\n",
        "print(df)\n",
        "\n",
        "# Menerapkan normalisasi menggunakan Min-Max Scaler\n",
        "scaler = MinMaxScaler()\n",
        "df_normalized = pd.DataFrame(scaler.fit_transform(df), columns=df.columns)\n",
        "\n",
        "# Menampilkan DataFrame setelah transformasi\n",
        "print(\"\\nData Setelah Normalisasi:\")\n",
        "print(df_normalized)\n"
      ],
      "metadata": {
        "colab": {
          "base_uri": "https://localhost:8080/"
        },
        "id": "EJ0zjnrtS6Wq",
        "outputId": "28a1b94e-40ab-4bdd-a0b3-cff11f09de77"
      },
      "execution_count": 59,
      "outputs": [
        {
          "output_type": "stream",
          "name": "stdout",
          "text": [
            "Data Sebelum Transformasi:\n",
            "   Usia  Pendapatan (ribu $)  Pengeluaran (ribu $)\n",
            "0    18                   50                    20\n",
            "1    20                   60                    25\n",
            "2    25                   70                    30\n",
            "3    30                   80                    35\n",
            "4    35                   90                    40\n",
            "\n",
            "Data Setelah Normalisasi:\n",
            "       Usia  Pendapatan (ribu $)  Pengeluaran (ribu $)\n",
            "0  0.000000                 0.00                  0.00\n",
            "1  0.117647                 0.25                  0.25\n",
            "2  0.411765                 0.50                  0.50\n",
            "3  0.705882                 0.75                  0.75\n",
            "4  1.000000                 1.00                  1.00\n"
          ]
        }
      ]
    },
    {
      "cell_type": "code",
      "source": [
        "import pandas as pd\n",
        "import numpy as np\n",
        "from sklearn.preprocessing import KBinsDiscretizer\n",
        "\n",
        "# Data contoh dengan beberapa fitur numerik\n",
        "data = {\n",
        "    'Usia': [18, 20, 25, 30, 35],\n",
        "    'Pendapatan (ribu $)': [50, 60, 70, 80, 90],\n",
        "    'Pengeluaran (ribu $)': [20, 25, 30, 35, 40]\n",
        "}\n",
        "\n",
        "# Membuat DataFrame dari data\n",
        "df = pd.DataFrame(data)\n",
        "\n",
        "# Menampilkan DataFrame sebelum diskritisasi\n",
        "print(\"Data Sebelum Diskritisasi:\")\n",
        "print(df)\n",
        "\n",
        "# Menerapkan diskritisasi menggunakan KBinsDiscretizer\n",
        "discretizer = KBinsDiscretizer(n_bins=4, encode='ordinal', strategy='uniform')\n",
        "df_discretized = pd.DataFrame(discretizer.fit_transform(df), columns=df.columns)\n",
        "\n",
        "# Menampilkan DataFrame setelah diskritisasi\n",
        "print(\"\\nData Setelah Diskritisasi:\")\n",
        "print(df_discretized)\n"
      ],
      "metadata": {
        "colab": {
          "base_uri": "https://localhost:8080/"
        },
        "id": "YIb-gKZdVn9z",
        "outputId": "ece932cf-c070-47a4-fc47-56ca114ffde4"
      },
      "execution_count": 60,
      "outputs": [
        {
          "output_type": "stream",
          "name": "stdout",
          "text": [
            "Data Sebelum Diskritisasi:\n",
            "   Usia  Pendapatan (ribu $)  Pengeluaran (ribu $)\n",
            "0    18                   50                    20\n",
            "1    20                   60                    25\n",
            "2    25                   70                    30\n",
            "3    30                   80                    35\n",
            "4    35                   90                    40\n",
            "\n",
            "Data Setelah Diskritisasi:\n",
            "   Usia  Pendapatan (ribu $)  Pengeluaran (ribu $)\n",
            "0   0.0                  0.0                   0.0\n",
            "1   0.0                  1.0                   1.0\n",
            "2   1.0                  2.0                   2.0\n",
            "3   2.0                  3.0                   3.0\n",
            "4   3.0                  3.0                   3.0\n"
          ]
        }
      ]
    }
  ]
}